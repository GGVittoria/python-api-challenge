{
 "cells": [
  {
   "cell_type": "markdown",
   "metadata": {},
   "source": [
    "# WeatherPy"
   ]
  },
  {
   "cell_type": "code",
   "execution_count": 1,
   "metadata": {
    "scrolled": true
   },
   "outputs": [],
   "source": [
    "# Dependencies and Setup\n",
    "import matplotlib.pyplot as plt\n",
    "import pandas as pd\n",
    "import numpy as np\n",
    "import requests\n",
    "import time\n",
    "from scipy.stats import linregress\n",
    "\n",
    "# Import API key\n",
    "from config import api_key\n",
    "\n",
    "# Incorporated citipy to determine city based on latitude and longitude\n",
    "from citipy import citipy\n",
    "\n",
    "# Output File (CSV)\n",
    "output_data_file = \"output_data/cities.csv\"\n",
    "\n",
    "# Range of latitudes and longitudes\n",
    "lat_range = (-90, 90)\n",
    "lng_range = (-180, 180)\n",
    "\n",
    "# How nmany cities in this analysis?\n",
    "cnt = 6"
   ]
  },
  {
   "cell_type": "code",
   "execution_count": 2,
   "metadata": {},
   "outputs": [
    {
     "data": {
      "text/plain": [
       "'http://api.openweathermap.org/data/2.5/weather?appid=f0c215066f97fe3149c5735af95697a4&units=imperial&q='"
      ]
     },
     "execution_count": 2,
     "metadata": {},
     "output_type": "execute_result"
    }
   ],
   "source": [
    "# Save config information.\n",
    "url = \"http://api.openweathermap.org/data/2.5/weather?\"\n",
    "units = \"imperial\"\n",
    "\n",
    "# Build partial query URL\n",
    "query_url = f\"{url}appid={api_key}&units={units}&q=\"\n",
    "query_url"
   ]
  },
  {
   "cell_type": "markdown",
   "metadata": {},
   "source": [
    "## Generate Cities List"
   ]
  },
  {
   "cell_type": "code",
   "execution_count": 3,
   "metadata": {},
   "outputs": [
    {
     "name": "stdout",
     "output_type": "stream",
     "text": [
      "[]\n",
      "[]\n"
     ]
    }
   ],
   "source": [
    "# List for holding lat_lngs and cities\n",
    "lat_lngs = []\n",
    "cities = []\n",
    "\n",
    "print(lat_lngs)\n",
    "print(cities)\n"
   ]
  },
  {
   "cell_type": "code",
   "execution_count": 4,
   "metadata": {},
   "outputs": [],
   "source": [
    "# Create a set of random lat and lng combinations\n",
    "lats = np.random.uniform(lat_range[0], lat_range[1], size=cnt)\n",
    "lngs = np.random.uniform(lng_range[0], lng_range[1], size=cnt)\n",
    "lat_lngs = zip(lats, lngs)"
   ]
  },
  {
   "cell_type": "code",
   "execution_count": 5,
   "metadata": {},
   "outputs": [
    {
     "data": {
      "text/plain": [
       "array([ 62.39806902, -13.73273023,   5.93883057,  11.58194748,\n",
       "       -78.2509466 , -87.61847641])"
      ]
     },
     "execution_count": 5,
     "metadata": {},
     "output_type": "execute_result"
    }
   ],
   "source": [
    "lats"
   ]
  },
  {
   "cell_type": "code",
   "execution_count": 6,
   "metadata": {},
   "outputs": [
    {
     "data": {
      "text/plain": [
       "array([ 142.40898179,  -72.40386552, -155.65013741,   86.62989837,\n",
       "        142.44708282,   40.38710489])"
      ]
     },
     "execution_count": 6,
     "metadata": {},
     "output_type": "execute_result"
    }
   ],
   "source": [
    "lngs"
   ]
  },
  {
   "cell_type": "code",
   "execution_count": 7,
   "metadata": {},
   "outputs": [
    {
     "name": "stdout",
     "output_type": "stream",
     "text": [
      "<zip object at 0x00000198FF691148>\n"
     ]
    }
   ],
   "source": [
    "print(lat_lngs)"
   ]
  },
  {
   "cell_type": "code",
   "execution_count": 8,
   "metadata": {},
   "outputs": [
    {
     "data": {
      "text/plain": [
       "[(62.39806902138818, 142.40898178718686),\n",
       " (-13.732730231114516, -72.40386552123903),\n",
       " (5.938830572899363, -155.65013741474553),\n",
       " (11.581947475313356, 86.62989837037708),\n",
       " (-78.25094660036365, 142.44708282071923),\n",
       " (-87.61847640511606, 40.387104893941995)]"
      ]
     },
     "execution_count": 8,
     "metadata": {},
     "output_type": "execute_result"
    }
   ],
   "source": [
    "lat_and_lng = list(zip(lats,lngs))\n",
    "lat_and_lng\n"
   ]
  },
  {
   "cell_type": "code",
   "execution_count": 9,
   "metadata": {},
   "outputs": [
    {
     "name": "stdout",
     "output_type": "stream",
     "text": [
      "ust-nera\n",
      "['ust-nera']\n",
      "anta\n",
      "['ust-nera', 'anta']\n",
      "hilo\n",
      "['ust-nera', 'anta', 'hilo']\n",
      "port blair\n",
      "['ust-nera', 'anta', 'hilo', 'port blair']\n",
      "hobart\n",
      "['ust-nera', 'anta', 'hilo', 'port blair', 'hobart']\n",
      "port alfred\n",
      "['ust-nera', 'anta', 'hilo', 'port blair', 'hobart', 'port alfred']\n"
     ]
    }
   ],
   "source": [
    "# Identify nearest city for each lat, lng combination\n",
    "for lat_lng in lat_lngs:\n",
    "    city = citipy.nearest_city(lat_lng[0], lat_lng[1]).city_name\n",
    "    print(city)\n",
    "    \n",
    "    # If the city is unique, then add it to a our cities list\n",
    "    if city not in cities:\n",
    "        cities.append(city)\n",
    "        print(cities)\n",
    "\n"
   ]
  },
  {
   "cell_type": "code",
   "execution_count": 10,
   "metadata": {},
   "outputs": [
    {
     "data": {
      "text/plain": [
       "6"
      ]
     },
     "execution_count": 10,
     "metadata": {},
     "output_type": "execute_result"
    }
   ],
   "source": [
    "# Print the city count to confirm sufficient count\n",
    "len(cities)"
   ]
  },
  {
   "cell_type": "markdown",
   "metadata": {},
   "source": [
    "### Perform API Calls\n",
    "* Perform a weather check on each city using a series of successive API calls.\n",
    "* Include a print log of each city as it'sbeing processed (with the city number and city name).\n"
   ]
  },
  {
   "cell_type": "code",
   "execution_count": 11,
   "metadata": {},
   "outputs": [
    {
     "name": "stdout",
     "output_type": "stream",
     "text": [
      "0: ust-nera\n",
      "(62.39806902138818, 142.40898178718686)\n",
      "orig latitude is: 62.39806902138818\n",
      "1\n",
      "{'coord': {'lon': 143.2, 'lat': 64.57}, 'weather': [{'id': 804, 'main': 'Clouds', 'description': 'overcast clouds', 'icon': '04d'}], 'base': 'stations', 'main': {'temp': 77.86, 'feels_like': 78.33, 'temp_min': 77.86, 'temp_max': 77.86, 'pressure': 1012, 'humidity': 47, 'sea_level': 1012, 'grnd_level': 958}, 'visibility': 10000, 'wind': {'speed': 2.51, 'deg': 19}, 'clouds': {'all': 95}, 'dt': 1595540433, 'sys': {'country': 'RU', 'sunrise': 1595523769, 'sunset': 1595592256}, 'timezone': 36000, 'id': 2120048, 'name': 'Ust-Nera', 'cod': 200}\n",
      "1: ust-nera\n",
      "located in Nothern hemisphere\n",
      "latitude is: 64.57\n",
      "temperature: 77.86\n",
      "humidity is: 47\n",
      "cloudiness is: 95\n",
      "wind speed is: 2.51\n",
      "\n",
      "1: anta\n",
      "(-13.732730231114516, -72.40386552123903)\n",
      "orig latitude is: -13.732730231114516\n",
      "2\n",
      "{'coord': {'lon': 76.3, 'lat': 25.15}, 'weather': [{'id': 500, 'main': 'Rain', 'description': 'light rain', 'icon': '10n'}], 'base': 'stations', 'main': {'temp': 81.81, 'feels_like': 88.66, 'temp_min': 81.81, 'temp_max': 81.81, 'pressure': 1003, 'humidity': 69, 'sea_level': 1003, 'grnd_level': 976}, 'visibility': 10000, 'wind': {'speed': 1.92, 'deg': 79}, 'rain': {'1h': 0.21}, 'clouds': {'all': 46}, 'dt': 1595540433, 'sys': {'country': 'IN', 'sunrise': 1595549894, 'sunset': 1595598244}, 'timezone': 19800, 'id': 1278532, 'name': 'Anta', 'cod': 200}\n",
      "2: anta\n",
      "located in Nothern hemisphere\n",
      "latitude is: 25.15\n",
      "temperature: 81.81\n",
      "humidity is: 69\n",
      "cloudiness is: 46\n",
      "wind speed is: 1.92\n",
      "\n",
      "2: hilo\n",
      "(5.938830572899363, -155.65013741474553)\n",
      "orig latitude is: 5.938830572899363\n",
      "3\n",
      "{'coord': {'lon': -155.09, 'lat': 19.73}, 'weather': [{'id': 804, 'main': 'Clouds', 'description': 'overcast clouds', 'icon': '04d'}], 'base': 'stations', 'main': {'temp': 78.06, 'feels_like': 80.82, 'temp_min': 73, 'temp_max': 82.4, 'pressure': 1018, 'humidity': 61}, 'visibility': 10000, 'wind': {'speed': 3.36, 'deg': 0}, 'clouds': {'all': 90}, 'dt': 1595540434, 'sys': {'type': 1, 'id': 7881, 'country': 'US', 'sunrise': 1595519585, 'sunset': 1595566818}, 'timezone': -36000, 'id': 5855927, 'name': 'Hilo', 'cod': 200}\n",
      "3: hilo\n",
      "located in Nothern hemisphere\n",
      "latitude is: 19.73\n",
      "temperature: 78.06\n",
      "humidity is: 61\n",
      "cloudiness is: 90\n",
      "wind speed is: 3.36\n",
      "\n",
      "3: port blair\n",
      "(11.581947475313356, 86.62989837037708)\n",
      "orig latitude is: 11.581947475313356\n",
      "4\n",
      "{'coord': {'lon': 92.75, 'lat': 11.67}, 'weather': [{'id': 803, 'main': 'Clouds', 'description': 'broken clouds', 'icon': '04n'}], 'base': 'stations', 'main': {'temp': 81.5, 'feels_like': 88.36, 'temp_min': 81.5, 'temp_max': 81.5, 'pressure': 1008, 'humidity': 74, 'sea_level': 1008, 'grnd_level': 1008}, 'visibility': 10000, 'wind': {'speed': 3.6, 'deg': 226}, 'clouds': {'all': 77}, 'dt': 1595540434, 'sys': {'country': 'IN', 'sunrise': 1595547279, 'sunset': 1595592963}, 'timezone': 19800, 'id': 1259385, 'name': 'Port Blair', 'cod': 200}\n",
      "4: port blair\n",
      "located in Nothern hemisphere\n",
      "latitude is: 11.67\n",
      "temperature: 81.5\n",
      "humidity is: 74\n",
      "cloudiness is: 77\n",
      "wind speed is: 3.6\n",
      "\n",
      "4: hobart\n",
      "(-78.25094660036365, 142.44708282071923)\n",
      "orig latitude is: -78.25094660036365\n",
      "5\n",
      "{'coord': {'lon': 147.33, 'lat': -42.88}, 'weather': [{'id': 803, 'main': 'Clouds', 'description': 'broken clouds', 'icon': '04d'}], 'base': 'stations', 'main': {'temp': 37.47, 'feels_like': 28.08, 'temp_min': 36, 'temp_max': 39.2, 'pressure': 1023, 'humidity': 80}, 'visibility': 10000, 'wind': {'speed': 10.29, 'deg': 300}, 'clouds': {'all': 80}, 'dt': 1595540277, 'sys': {'type': 1, 'id': 9545, 'country': 'AU', 'sunrise': 1595539818, 'sunset': 1595574225}, 'timezone': 36000, 'id': 2163355, 'name': 'Hobart', 'cod': 200}\n",
      "5: hobart\n",
      "located in Southern hemisphere\n",
      "latitude is: -42.88\n",
      "temperature: 37.47\n",
      "humidity is: 80\n",
      "cloudiness is: 80\n",
      "wind speed is: 10.29\n",
      "\n",
      "5: port alfred\n",
      "(-87.61847640511606, 40.387104893941995)\n",
      "orig latitude is: -87.61847640511606\n",
      "6\n",
      "{'coord': {'lon': 26.89, 'lat': -33.59}, 'weather': [{'id': 800, 'main': 'Clear', 'description': 'clear sky', 'icon': '01n'}], 'base': 'stations', 'main': {'temp': 63.55, 'feels_like': 55.51, 'temp_min': 63.55, 'temp_max': 63.55, 'pressure': 1025, 'humidity': 41, 'sea_level': 1025, 'grnd_level': 1023}, 'visibility': 10000, 'wind': {'speed': 10.16, 'deg': 42}, 'clouds': {'all': 0}, 'dt': 1595540434, 'sys': {'country': 'ZA', 'sunrise': 1595481020, 'sunset': 1595518031}, 'timezone': 7200, 'id': 964432, 'name': 'Port Alfred', 'cod': 200}\n",
      "6: port alfred\n",
      "located in Southern hemisphere\n",
      "latitude is: -33.59\n",
      "temperature: 63.55\n",
      "humidity is: 41\n",
      "cloudiness is: 0\n",
      "wind speed is: 10.16\n",
      "\n"
     ]
    }
   ],
   "source": [
    "\n",
    "# set up lists to hold reponse info\n",
    "lats2 = []\n",
    "temps = []\n",
    "humids = []\n",
    "clouds = []\n",
    "winds = []\n",
    "hems = []\n",
    "orig_lats = []\n",
    "\n",
    "\n",
    "\n",
    "count = 0\n",
    "\n",
    "# Loop through the list of cities and perform a request for data on each\n",
    "for city in cities:\n",
    "    print(f\"{count}: {city}\")\n",
    "    print(lat_and_lng[count])\n",
    "    orig_lats.append(lats[count])\n",
    "    print(f\"orig latitude is: {lats[count]}\")\n",
    "\n",
    "    count = count +1\n",
    "    print(count)\n",
    "    response = requests.get(query_url + city).json()\n",
    "    print(response)\n",
    "    \n",
    "\n",
    "    lat2 = (response['coord']['lat'])\n",
    "    temp = (response['main']['temp'])\n",
    "    humid = (response['main']['humidity'])\n",
    "    cloud = (response['clouds']['all'])\n",
    "    wind = (response['wind']['speed'])\n",
    "    print(f\"{count}: {city}\")\n",
    "    hem = \"Nothern\" if (lat2 > 0) else \"Southern\"\n",
    "    print(f\"located in {hem} hemisphere\")    \n",
    "    print(f\"latitude is: {lat2}\")\n",
    "\n",
    "    print(f\"temperature: {temp}\")\n",
    "    print(f\"humidity is: {humid}\")\n",
    "    print(f\"cloudiness is: {cloud}\")\n",
    "    print(f\"wind speed is: {wind}\")\n",
    "    \n",
    "\n",
    "    lats2.append(response['coord']['lat'])\n",
    "    temps.append(response['main']['temp'])\n",
    "    humids.append(response['main']['humidity'])\n",
    "    clouds.append(response['clouds']['all'])\n",
    "    winds.append(response['wind']['speed'])\n",
    "    hems.append(hem)\n",
    "\n",
    "        \n",
    "    print()"
   ]
  },
  {
   "cell_type": "code",
   "execution_count": 12,
   "metadata": {},
   "outputs": [
    {
     "data": {
      "text/html": [
       "<div>\n",
       "<style scoped>\n",
       "    .dataframe tbody tr th:only-of-type {\n",
       "        vertical-align: middle;\n",
       "    }\n",
       "\n",
       "    .dataframe tbody tr th {\n",
       "        vertical-align: top;\n",
       "    }\n",
       "\n",
       "    .dataframe thead th {\n",
       "        text-align: right;\n",
       "    }\n",
       "</style>\n",
       "<table border=\"1\" class=\"dataframe\">\n",
       "  <thead>\n",
       "    <tr style=\"text-align: right;\">\n",
       "      <th></th>\n",
       "      <th>city</th>\n",
       "      <th>hemisphere</th>\n",
       "      <th>lat</th>\n",
       "      <th>orig lat</th>\n",
       "      <th>temp</th>\n",
       "      <th>humidity</th>\n",
       "      <th>cloudiness</th>\n",
       "      <th>wind speed</th>\n",
       "    </tr>\n",
       "  </thead>\n",
       "  <tbody>\n",
       "    <tr>\n",
       "      <th>0</th>\n",
       "      <td>ust-nera</td>\n",
       "      <td>Nothern</td>\n",
       "      <td>64.57</td>\n",
       "      <td>62.398069</td>\n",
       "      <td>77.86</td>\n",
       "      <td>47</td>\n",
       "      <td>0</td>\n",
       "      <td>2.51</td>\n",
       "    </tr>\n",
       "    <tr>\n",
       "      <th>1</th>\n",
       "      <td>anta</td>\n",
       "      <td>Nothern</td>\n",
       "      <td>25.15</td>\n",
       "      <td>-13.732730</td>\n",
       "      <td>81.81</td>\n",
       "      <td>69</td>\n",
       "      <td>0</td>\n",
       "      <td>1.92</td>\n",
       "    </tr>\n",
       "    <tr>\n",
       "      <th>2</th>\n",
       "      <td>hilo</td>\n",
       "      <td>Nothern</td>\n",
       "      <td>19.73</td>\n",
       "      <td>5.938831</td>\n",
       "      <td>78.06</td>\n",
       "      <td>61</td>\n",
       "      <td>0</td>\n",
       "      <td>3.36</td>\n",
       "    </tr>\n",
       "    <tr>\n",
       "      <th>3</th>\n",
       "      <td>port blair</td>\n",
       "      <td>Nothern</td>\n",
       "      <td>11.67</td>\n",
       "      <td>11.581947</td>\n",
       "      <td>81.50</td>\n",
       "      <td>74</td>\n",
       "      <td>0</td>\n",
       "      <td>3.60</td>\n",
       "    </tr>\n",
       "    <tr>\n",
       "      <th>4</th>\n",
       "      <td>hobart</td>\n",
       "      <td>Southern</td>\n",
       "      <td>-42.88</td>\n",
       "      <td>-78.250947</td>\n",
       "      <td>37.47</td>\n",
       "      <td>80</td>\n",
       "      <td>0</td>\n",
       "      <td>10.29</td>\n",
       "    </tr>\n",
       "    <tr>\n",
       "      <th>5</th>\n",
       "      <td>port alfred</td>\n",
       "      <td>Southern</td>\n",
       "      <td>-33.59</td>\n",
       "      <td>-87.618476</td>\n",
       "      <td>63.55</td>\n",
       "      <td>41</td>\n",
       "      <td>0</td>\n",
       "      <td>10.16</td>\n",
       "    </tr>\n",
       "  </tbody>\n",
       "</table>\n",
       "</div>"
      ],
      "text/plain": [
       "          city hemisphere    lat   orig lat   temp  humidity  cloudiness  \\\n",
       "0     ust-nera    Nothern  64.57  62.398069  77.86        47           0   \n",
       "1         anta    Nothern  25.15 -13.732730  81.81        69           0   \n",
       "2         hilo    Nothern  19.73   5.938831  78.06        61           0   \n",
       "3   port blair    Nothern  11.67  11.581947  81.50        74           0   \n",
       "4       hobart   Southern -42.88 -78.250947  37.47        80           0   \n",
       "5  port alfred   Southern -33.59 -87.618476  63.55        41           0   \n",
       "\n",
       "   wind speed  \n",
       "0        2.51  \n",
       "1        1.92  \n",
       "2        3.36  \n",
       "3        3.60  \n",
       "4       10.29  \n",
       "5       10.16  "
      ]
     },
     "execution_count": 12,
     "metadata": {},
     "output_type": "execute_result"
    }
   ],
   "source": [
    "# create a data frame from cities, lat, and temp\n",
    "weather_dict = {\n",
    "    \"city\": cities,\n",
    "    \"hemisphere\": hems,\n",
    "    \"lat\": lats2,\n",
    "    \"orig lat\": orig_lats,\n",
    "    \"temp\": temps,\n",
    "    \"humidity\": humids,\n",
    "    \"cloudiness\": cloud,\n",
    "    \"wind speed\": winds\n",
    "}\n",
    "weather_data = pd.DataFrame(weather_dict)\n",
    "weather_data"
   ]
  },
  {
   "cell_type": "markdown",
   "metadata": {},
   "source": [
    "### Convert Raw Data to DataFrame\n",
    "* Export the city data into a .csv.\n",
    "* Display the DataFrame"
   ]
  },
  {
   "cell_type": "code",
   "execution_count": null,
   "metadata": {},
   "outputs": [],
   "source": []
  },
  {
   "cell_type": "code",
   "execution_count": null,
   "metadata": {},
   "outputs": [],
   "source": []
  },
  {
   "cell_type": "markdown",
   "metadata": {},
   "source": [
    "## Inspect the data and remove the cities where the humidity > 100%.\n",
    "----\n",
    "Skip this step if there are no cities that have humidity > 100%. "
   ]
  },
  {
   "cell_type": "code",
   "execution_count": null,
   "metadata": {},
   "outputs": [],
   "source": []
  },
  {
   "cell_type": "code",
   "execution_count": null,
   "metadata": {},
   "outputs": [],
   "source": [
    "#  Get the indices of cities that have humidity over 100%.\n"
   ]
  },
  {
   "cell_type": "code",
   "execution_count": null,
   "metadata": {},
   "outputs": [],
   "source": [
    "# Make a new DataFrame equal to the city data to drop all humidity outliers by index.\n",
    "# Passing \"inplace=False\" will make a copy of the city_data DataFrame, which we call \"clean_city_data\".\n"
   ]
  },
  {
   "cell_type": "code",
   "execution_count": null,
   "metadata": {},
   "outputs": [],
   "source": [
    "# Extract relevant fields from the data frame\n",
    "\n",
    "\n",
    "# Export the City_Data into a csv\n"
   ]
  },
  {
   "cell_type": "markdown",
   "metadata": {},
   "source": [
    "## Plotting the Data\n",
    "* Use proper labeling of the plots using plot titles (including date of analysis) and axes labels.\n",
    "* Save the plotted figures as .pngs."
   ]
  },
  {
   "cell_type": "markdown",
   "metadata": {},
   "source": [
    "## Latitude vs. Temperature Plot"
   ]
  },
  {
   "cell_type": "code",
   "execution_count": null,
   "metadata": {
    "scrolled": true
   },
   "outputs": [],
   "source": []
  },
  {
   "cell_type": "markdown",
   "metadata": {},
   "source": [
    "## Latitude vs. Humidity Plot"
   ]
  },
  {
   "cell_type": "code",
   "execution_count": null,
   "metadata": {},
   "outputs": [],
   "source": []
  },
  {
   "cell_type": "markdown",
   "metadata": {},
   "source": [
    "## Latitude vs. Cloudiness Plot"
   ]
  },
  {
   "cell_type": "code",
   "execution_count": null,
   "metadata": {},
   "outputs": [],
   "source": []
  },
  {
   "cell_type": "markdown",
   "metadata": {},
   "source": [
    "## Latitude vs. Wind Speed Plot"
   ]
  },
  {
   "cell_type": "code",
   "execution_count": null,
   "metadata": {},
   "outputs": [],
   "source": []
  },
  {
   "cell_type": "markdown",
   "metadata": {},
   "source": [
    "## Linear Regression"
   ]
  },
  {
   "cell_type": "code",
   "execution_count": null,
   "metadata": {},
   "outputs": [],
   "source": [
    "# OPTIONAL: Create a function to create Linear Regression plots"
   ]
  },
  {
   "cell_type": "code",
   "execution_count": null,
   "metadata": {},
   "outputs": [],
   "source": [
    "# Create Northern and Southern Hemisphere DataFrames"
   ]
  },
  {
   "cell_type": "markdown",
   "metadata": {},
   "source": [
    "####  Northern Hemisphere - Max Temp vs. Latitude Linear Regression"
   ]
  },
  {
   "cell_type": "code",
   "execution_count": null,
   "metadata": {},
   "outputs": [],
   "source": []
  },
  {
   "cell_type": "markdown",
   "metadata": {},
   "source": [
    "####  Southern Hemisphere - Max Temp vs. Latitude Linear Regression"
   ]
  },
  {
   "cell_type": "code",
   "execution_count": null,
   "metadata": {},
   "outputs": [],
   "source": []
  },
  {
   "cell_type": "markdown",
   "metadata": {},
   "source": [
    "####  Northern Hemisphere - Humidity (%) vs. Latitude Linear Regression"
   ]
  },
  {
   "cell_type": "code",
   "execution_count": null,
   "metadata": {},
   "outputs": [],
   "source": []
  },
  {
   "cell_type": "markdown",
   "metadata": {},
   "source": [
    "####  Southern Hemisphere - Humidity (%) vs. Latitude Linear Regression"
   ]
  },
  {
   "cell_type": "code",
   "execution_count": null,
   "metadata": {},
   "outputs": [],
   "source": []
  },
  {
   "cell_type": "markdown",
   "metadata": {},
   "source": [
    "####  Northern Hemisphere - Cloudiness (%) vs. Latitude Linear Regression"
   ]
  },
  {
   "cell_type": "code",
   "execution_count": null,
   "metadata": {},
   "outputs": [],
   "source": []
  },
  {
   "cell_type": "markdown",
   "metadata": {},
   "source": [
    "####  Southern Hemisphere - Cloudiness (%) vs. Latitude Linear Regression"
   ]
  },
  {
   "cell_type": "code",
   "execution_count": null,
   "metadata": {},
   "outputs": [],
   "source": []
  },
  {
   "cell_type": "markdown",
   "metadata": {},
   "source": [
    "####  Northern Hemisphere - Wind Speed (mph) vs. Latitude Linear Regression"
   ]
  },
  {
   "cell_type": "code",
   "execution_count": null,
   "metadata": {},
   "outputs": [],
   "source": []
  },
  {
   "cell_type": "markdown",
   "metadata": {},
   "source": [
    "####  Southern Hemisphere - Wind Speed (mph) vs. Latitude Linear Regression"
   ]
  },
  {
   "cell_type": "code",
   "execution_count": null,
   "metadata": {},
   "outputs": [],
   "source": []
  },
  {
   "cell_type": "code",
   "execution_count": null,
   "metadata": {},
   "outputs": [],
   "source": []
  }
 ],
 "metadata": {
  "anaconda-cloud": {},
  "kernel_info": {
   "name": "python3"
  },
  "kernelspec": {
   "display_name": "Python 3",
   "language": "python",
   "name": "python3"
  },
  "language_info": {
   "codemirror_mode": {
    "name": "ipython",
    "version": 3
   },
   "file_extension": ".py",
   "mimetype": "text/x-python",
   "name": "python",
   "nbconvert_exporter": "python",
   "pygments_lexer": "ipython3",
   "version": "3.6.10"
  },
  "latex_envs": {
   "LaTeX_envs_menu_present": true,
   "autoclose": false,
   "autocomplete": true,
   "bibliofile": "biblio.bib",
   "cite_by": "apalike",
   "current_citInitial": 1,
   "eqLabelWithNumbers": true,
   "eqNumInitial": 1,
   "hotkeys": {
    "equation": "Ctrl-E",
    "itemize": "Ctrl-I"
   },
   "labels_anchors": false,
   "latex_user_defs": false,
   "report_style_numbering": false,
   "user_envs_cfg": false
  },
  "nteract": {
   "version": "0.12.3"
  }
 },
 "nbformat": 4,
 "nbformat_minor": 2
}
